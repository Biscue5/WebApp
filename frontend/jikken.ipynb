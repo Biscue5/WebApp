{
 "cells": [
  {
   "cell_type": "code",
   "execution_count": 56,
   "metadata": {},
   "outputs": [
    {
     "data": {
      "text/plain": [
       "<Response [404]>"
      ]
     },
     "execution_count": 56,
     "metadata": {},
     "output_type": "execute_result"
    }
   ],
   "source": [
    "import requests\n",
    "import json\n",
    "import os\n",
    "import httpx\n",
    "from PIL import Image\n",
    "\n",
    "url = 'http://127.0.0.1:8000'\n",
    "\n",
    "requests.post(url)"
   ]
  },
  {
   "cell_type": "code",
   "execution_count": 100,
   "metadata": {},
   "outputs": [
    {
     "name": "stdout",
     "output_type": "stream",
     "text": [
      "127.0.0.1:8000\n"
     ]
    }
   ],
   "source": [
    "BACKEND_HOST = os.environ.get('BACKEND_HOST', '127.0.0.1:8000')\n",
    "print(BACKEND_HOST)"
   ]
  },
  {
   "cell_type": "code",
   "execution_count": 59,
   "metadata": {},
   "outputs": [],
   "source": [
    "files = []"
   ]
  },
  {
   "cell_type": "code",
   "execution_count": 172,
   "metadata": {},
   "outputs": [],
   "source": [
    "result = httpx.post(f'http://{BACKEND_HOST}/predict/', files=files, timeout=120)"
   ]
  },
  {
   "cell_type": "code",
   "execution_count": 140,
   "metadata": {},
   "outputs": [
    {
     "data": {
      "text/plain": [
       "<Response [200]>"
      ]
     },
     "execution_count": 140,
     "metadata": {},
     "output_type": "execute_result"
    }
   ],
   "source": [
    "result"
   ]
  },
  {
   "cell_type": "code",
   "execution_count": 174,
   "metadata": {},
   "outputs": [
    {
     "ename": "TypeError",
     "evalue": "a bytes-like object is required, not 'str'",
     "output_type": "error",
     "traceback": [
      "\u001b[0;31m---------------------------------------------------------------------------\u001b[0m",
      "\u001b[0;31mTypeError\u001b[0m                                 Traceback (most recent call last)",
      "\u001b[1;32m/Users/tomoya/Desktop/python/WebApp/frontend/jikken.ipynb Cell 6\u001b[0m in \u001b[0;36m<cell line: 13>\u001b[0;34m()\u001b[0m\n\u001b[1;32m      <a href='vscode-notebook-cell:/Users/tomoya/Desktop/python/WebApp/frontend/jikken.ipynb#X16sZmlsZQ%3D%3D?line=8'>9</a>\u001b[0m     img \u001b[39m=\u001b[39m Image\u001b[39m.\u001b[39mopen(io\u001b[39m.\u001b[39mBytesIO(img_raw))\n\u001b[1;32m     <a href='vscode-notebook-cell:/Users/tomoya/Desktop/python/WebApp/frontend/jikken.ipynb#X16sZmlsZQ%3D%3D?line=10'>11</a>\u001b[0m     \u001b[39mreturn\u001b[39;00m img\n\u001b[0;32m---> <a href='vscode-notebook-cell:/Users/tomoya/Desktop/python/WebApp/frontend/jikken.ipynb#X16sZmlsZQ%3D%3D?line=12'>13</a>\u001b[0m base64_to_pil(result\u001b[39m.\u001b[39;49mcontent)\n",
      "\u001b[1;32m/Users/tomoya/Desktop/python/WebApp/frontend/jikken.ipynb Cell 6\u001b[0m in \u001b[0;36mbase64_to_pil\u001b[0;34m(img_str)\u001b[0m\n\u001b[1;32m      <a href='vscode-notebook-cell:/Users/tomoya/Desktop/python/WebApp/frontend/jikken.ipynb#X16sZmlsZQ%3D%3D?line=3'>4</a>\u001b[0m \u001b[39mdef\u001b[39;00m \u001b[39mbase64_to_pil\u001b[39m(img_str):\n\u001b[0;32m----> <a href='vscode-notebook-cell:/Users/tomoya/Desktop/python/WebApp/frontend/jikken.ipynb#X16sZmlsZQ%3D%3D?line=4'>5</a>\u001b[0m     \u001b[39mif\u001b[39;00m \u001b[39m\"\u001b[39;49m\u001b[39mbase64,\u001b[39;49m\u001b[39m\"\u001b[39;49m \u001b[39min\u001b[39;49;00m img_str:\n\u001b[1;32m      <a href='vscode-notebook-cell:/Users/tomoya/Desktop/python/WebApp/frontend/jikken.ipynb#X16sZmlsZQ%3D%3D?line=5'>6</a>\u001b[0m         \u001b[39m# DARA URI の場合、data:[<mediatype>][;base64], を除く\u001b[39;00m\n\u001b[1;32m      <a href='vscode-notebook-cell:/Users/tomoya/Desktop/python/WebApp/frontend/jikken.ipynb#X16sZmlsZQ%3D%3D?line=6'>7</a>\u001b[0m         img_str \u001b[39m=\u001b[39m img_str\u001b[39m.\u001b[39msplit(\u001b[39m\"\u001b[39m\u001b[39m,\u001b[39m\u001b[39m\"\u001b[39m)[\u001b[39m1\u001b[39m]\n\u001b[1;32m      <a href='vscode-notebook-cell:/Users/tomoya/Desktop/python/WebApp/frontend/jikken.ipynb#X16sZmlsZQ%3D%3D?line=7'>8</a>\u001b[0m     img_raw \u001b[39m=\u001b[39m base64\u001b[39m.\u001b[39mb64decode(img_str)\n",
      "\u001b[0;31mTypeError\u001b[0m: a bytes-like object is required, not 'str'"
     ]
    }
   ],
   "source": [
    "import base64\n",
    "from email.mime import base\n",
    "import io\n",
    "def base64_to_pil(img_str):\n",
    "    img_raw = base64.b64decode(img_str)\n",
    "    img = Image.open(io.BytesIO(img_raw))\n",
    "\n",
    "    return img\n",
    "\n",
    "base64_to_pil(result.content)"
   ]
  },
  {
   "cell_type": "code",
   "execution_count": 144,
   "metadata": {},
   "outputs": [
    {
     "ename": "UnidentifiedImageError",
     "evalue": "cannot identify image file <_io.BytesIO object at 0x14dd6e6d0>",
     "output_type": "error",
     "traceback": [
      "\u001b[0;31m---------------------------------------------------------------------------\u001b[0m",
      "\u001b[0;31mUnidentifiedImageError\u001b[0m                    Traceback (most recent call last)",
      "\u001b[1;32m/Users/tomoya/Desktop/python/WebApp/frontend/jikken.ipynb Cell 6\u001b[0m in \u001b[0;36m<cell line: 2>\u001b[0;34m()\u001b[0m\n\u001b[1;32m      <a href='vscode-notebook-cell:/Users/tomoya/Desktop/python/WebApp/frontend/jikken.ipynb#X15sZmlsZQ%3D%3D?line=0'>1</a>\u001b[0m \u001b[39mimport\u001b[39;00m \u001b[39mbase64\u001b[39;00m\n\u001b[0;32m----> <a href='vscode-notebook-cell:/Users/tomoya/Desktop/python/WebApp/frontend/jikken.ipynb#X15sZmlsZQ%3D%3D?line=1'>2</a>\u001b[0m Image\u001b[39m.\u001b[39;49mopen(io\u001b[39m.\u001b[39;49mBytesIO(base64\u001b[39m.\u001b[39;49mb64decode(result\u001b[39m.\u001b[39;49mcontent)))\n",
      "File \u001b[0;32m~/Desktop/python/venv/venv/lib/python3.8/site-packages/PIL/Image.py:3147\u001b[0m, in \u001b[0;36mopen\u001b[0;34m(fp, mode, formats)\u001b[0m\n\u001b[1;32m   3145\u001b[0m \u001b[39mfor\u001b[39;00m message \u001b[39min\u001b[39;00m accept_warnings:\n\u001b[1;32m   3146\u001b[0m     warnings\u001b[39m.\u001b[39mwarn(message)\n\u001b[0;32m-> 3147\u001b[0m \u001b[39mraise\u001b[39;00m UnidentifiedImageError(\n\u001b[1;32m   3148\u001b[0m     \u001b[39m\"\u001b[39m\u001b[39mcannot identify image file \u001b[39m\u001b[39m%r\u001b[39;00m\u001b[39m\"\u001b[39m \u001b[39m%\u001b[39m (filename \u001b[39mif\u001b[39;00m filename \u001b[39melse\u001b[39;00m fp)\n\u001b[1;32m   3149\u001b[0m )\n",
      "\u001b[0;31mUnidentifiedImageError\u001b[0m: cannot identify image file <_io.BytesIO object at 0x14dd6e6d0>"
     ]
    }
   ],
   "source": [
    "import base64\n",
    "Image.open(io.BytesIO(base64.b64decode(result.content)))\n"
   ]
  },
  {
   "cell_type": "code",
   "execution_count": 131,
   "metadata": {},
   "outputs": [
    {
     "ename": "TypeError",
     "evalue": "a bytes-like object is required, not '_io.BytesIO'",
     "output_type": "error",
     "traceback": [
      "\u001b[0;31m---------------------------------------------------------------------------\u001b[0m",
      "\u001b[0;31mTypeError\u001b[0m                                 Traceback (most recent call last)",
      "\u001b[1;32m/Users/tomoya/Desktop/python/WebApp/frontend/jikken.ipynb Cell 6\u001b[0m in \u001b[0;36m<cell line: 5>\u001b[0;34m()\u001b[0m\n\u001b[1;32m      <a href='vscode-notebook-cell:/Users/tomoya/Desktop/python/WebApp/frontend/jikken.ipynb#X12sZmlsZQ%3D%3D?line=1'>2</a>\u001b[0m \u001b[39mfrom\u001b[39;00m \u001b[39mpickletools\u001b[39;00m \u001b[39mimport\u001b[39;00m uint1\n\u001b[1;32m      <a href='vscode-notebook-cell:/Users/tomoya/Desktop/python/WebApp/frontend/jikken.ipynb#X12sZmlsZQ%3D%3D?line=2'>3</a>\u001b[0m \u001b[39mimport\u001b[39;00m \u001b[39mmatplotlib\u001b[39;00m\u001b[39m.\u001b[39;00m\u001b[39mpyplot\u001b[39;00m \u001b[39mas\u001b[39;00m \u001b[39mplt\u001b[39;00m\n\u001b[0;32m----> <a href='vscode-notebook-cell:/Users/tomoya/Desktop/python/WebApp/frontend/jikken.ipynb#X12sZmlsZQ%3D%3D?line=4'>5</a>\u001b[0m img \u001b[39m=\u001b[39m np\u001b[39m.\u001b[39;49mfrombuffer(io\u001b[39m.\u001b[39;49mBytesIO(base64\u001b[39m.\u001b[39;49mb64decode(result\u001b[39m.\u001b[39;49mcontent)), dtype\u001b[39m=\u001b[39;49mnp\u001b[39m.\u001b[39;49muint8)\n\u001b[1;32m      <a href='vscode-notebook-cell:/Users/tomoya/Desktop/python/WebApp/frontend/jikken.ipynb#X12sZmlsZQ%3D%3D?line=5'>6</a>\u001b[0m img \u001b[39m=\u001b[39m img\u001b[39m.\u001b[39mreshape((\u001b[39m512\u001b[39m, \u001b[39m512\u001b[39m))\n\u001b[1;32m      <a href='vscode-notebook-cell:/Users/tomoya/Desktop/python/WebApp/frontend/jikken.ipynb#X12sZmlsZQ%3D%3D?line=6'>7</a>\u001b[0m plt\u001b[39m.\u001b[39mimshow(img)\n",
      "\u001b[0;31mTypeError\u001b[0m: a bytes-like object is required, not '_io.BytesIO'"
     ]
    }
   ],
   "source": [
    "import base64\n",
    "from pickletools import uint1\n",
    "import matplotlib.pyplot as plt\n",
    "\n",
    "img = np.frombuffer(base64.b64decode(result.content), dtype=np.uint8)\n",
    "plt.imshow(img)\n"
   ]
  },
  {
   "cell_type": "code",
   "execution_count": 130,
   "metadata": {},
   "outputs": [
    {
     "data": {
      "text/plain": [
       "262144"
      ]
     },
     "execution_count": 130,
     "metadata": {},
     "output_type": "execute_result"
    }
   ],
   "source": [
    "512**2"
   ]
  },
  {
   "cell_type": "code",
   "execution_count": 158,
   "metadata": {},
   "outputs": [],
   "source": [
    "import base64\n",
    "import numpy as np\n",
    "import io\n",
    "import chardet\n",
    "with io.BytesIO() as output:\n",
    "    img = Image.open('../samples/dog.jpg')\n",
    "    img.save(output, format='JPEG')\n",
    "    img = output.getvalue()\n",
    "with io.BytesIO() as output:\n",
    "    mask = Image.open('../samples/dog_mask.jpg')\n",
    "    mask.save(output, format='PNG')\n",
    "    mask = output.getvalue()\n",
    "\n",
    "files = [('files', file) for file in [img, mask]]"
   ]
  },
  {
   "cell_type": "code",
   "execution_count": 69,
   "metadata": {},
   "outputs": [],
   "source": [
    "img = '../samples/dog.jpg'\n",
    "mask = '../samples/dog_mask.jpg'\n",
    "files = [('files', file) for file in [img, mask]]"
   ]
  },
  {
   "cell_type": "code",
   "execution_count": 47,
   "metadata": {},
   "outputs": [
    {
     "data": {
      "text/plain": [
       "'[\"../samples/dog.jpg\", \"../samples/dog_mask.jpg\"]'"
      ]
     },
     "execution_count": 47,
     "metadata": {},
     "output_type": "execute_result"
    }
   ],
   "source": [
    "json.dumps([img, mask])"
   ]
  },
  {
   "cell_type": "code",
   "execution_count": null,
   "metadata": {},
   "outputs": [],
   "source": []
  }
 ],
 "metadata": {
  "kernelspec": {
   "display_name": "venv",
   "language": "python",
   "name": "venv"
  },
  "language_info": {
   "codemirror_mode": {
    "name": "ipython",
    "version": 3
   },
   "file_extension": ".py",
   "mimetype": "text/x-python",
   "name": "python",
   "nbconvert_exporter": "python",
   "pygments_lexer": "ipython3",
   "version": "3.8.10"
  },
  "orig_nbformat": 4,
  "vscode": {
   "interpreter": {
    "hash": "aee8b7b246df8f9039afb4144a1f6fd8d2ca17a180786b69acc140d282b71a49"
   }
  }
 },
 "nbformat": 4,
 "nbformat_minor": 2
}
